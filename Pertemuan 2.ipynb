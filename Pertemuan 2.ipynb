{
  "nbformat": 4,
  "nbformat_minor": 0,
  "metadata": {
    "colab": {
      "provenance": [],
      "authorship_tag": "ABX9TyNtl7N2lTS2eb9qin0DRwPy",
      "include_colab_link": true
    },
    "kernelspec": {
      "name": "python3",
      "display_name": "Python 3"
    },
    "language_info": {
      "name": "python"
    }
  },
  "cells": [
    {
      "cell_type": "markdown",
      "metadata": {
        "id": "view-in-github",
        "colab_type": "text"
      },
      "source": [
        "<a href=\"https://colab.research.google.com/github/ferdanischool-pixel/pemrograman-dasar/blob/main/Pertemuan%202.ipynb\" target=\"_parent\"><img src=\"https://colab.research.google.com/assets/colab-badge.svg\" alt=\"Open In Colab\"/></a>"
      ]
    },
    {
      "cell_type": "code",
      "execution_count": 1,
      "metadata": {
        "colab": {
          "base_uri": "https://localhost:8080/"
        },
        "id": "hBc4iEp2_gTE",
        "outputId": "c80bc0ae-166a-42e0-bd16-bb8d1fa30f13"
      },
      "outputs": [
        {
          "output_type": "stream",
          "name": "stdout",
          "text": [
            "ferdani\n",
            "ferdani\n",
            "221\n",
            "False\n"
          ]
        }
      ],
      "source": [
        "firstname = \"ferdani\"\n",
        "lastname  = \"ferdani\"\n",
        "age       = 221\n",
        "isMarried = False\n",
        "\n",
        "print (firstname)\n",
        "print (lastname)\n",
        "print (age)\n",
        "print (isMarried)\n",
        "\n"
      ]
    },
    {
      "cell_type": "code",
      "source": [
        "data_diri = {\n",
        "    \"firstname\": \"ferdani\",\n",
        "    \"lastname\": \"ferdani\",\n",
        "    \"age\": 21,\n",
        "    \"isMarried\": False\n",
        "}\n",
        "print(data_diri)"
      ],
      "metadata": {
        "colab": {
          "base_uri": "https://localhost:8080/"
        },
        "id": "UQr8A-xEAuEO",
        "outputId": "f74b3fa4-36cb-477d-fb01-28f173cf73ed"
      },
      "execution_count": 2,
      "outputs": [
        {
          "output_type": "stream",
          "name": "stdout",
          "text": [
            "{'firstname': 'ferdani', 'lastname': 'ferdani', 'age': 21, 'isMarried': False}\n"
          ]
        }
      ]
    },
    {
      "cell_type": "code",
      "source": [
        "inspeksi = [\n",
        "    \"pemahaman terhadap rencana dan desain\",\n",
        "    \"ketersediaan bahan dan peralatan\",\n",
        "    \"pengawasan pekerjaan\",\n",
        "    \"kualitas konstruksi\",\n",
        "    \"keselamatan kerja\",\n",
        "    \"koordinasi dengan pemilik proyek\"\n",
        "]\n",
        "print(\"Daftar Inspeksi Proyek:\")\n",
        "for i, item in enumerate(inspeksi, start=1):\n",
        "    print(f\"{i}. {item}\")"
      ],
      "metadata": {
        "colab": {
          "base_uri": "https://localhost:8080/"
        },
        "id": "R41Iepw8CYW1",
        "outputId": "e08e8fa5-1873-4a5b-fe02-c8a48fe19c46"
      },
      "execution_count": 3,
      "outputs": [
        {
          "output_type": "stream",
          "name": "stdout",
          "text": [
            "Daftar Inspeksi Proyek:\n",
            "1. pemahaman terhadap rencana dan desain\n",
            "2. ketersediaan bahan dan peralatan\n",
            "3. pengawasan pekerjaan\n",
            "4. kualitas konstruksi\n",
            "5. keselamatan kerja\n",
            "6. koordinasi dengan pemilik proyek\n"
          ]
        }
      ]
    },
    {
      "cell_type": "code",
      "source": [
        "startime = {\n",
        "    \"hh\" : 9,\n",
        "    \"mm\" : 23,\n",
        "    \"ss\" : 57\n",
        "\n",
        "}\n",
        "print(startime)\n",
        "\n",
        "endtime = {\n",
        "\n",
        "    \"hh\" : 15,\n",
        "    \"mm\" : 25,\n",
        "    \"ss\" : 43\n",
        "\n",
        "}\n",
        "\n",
        "print(endtime)"
      ],
      "metadata": {
        "colab": {
          "base_uri": "https://localhost:8080/"
        },
        "id": "nl9w74RbDQ5X",
        "outputId": "56b73af3-f6e2-40c0-93ed-f2486c8a281e"
      },
      "execution_count": 4,
      "outputs": [
        {
          "output_type": "stream",
          "name": "stdout",
          "text": [
            "{'hh': 9, 'mm': 23, 'ss': 57}\n",
            "{'hh': 15, 'mm': 25, 'ss': 43}\n"
          ]
        }
      ]
    },
    {
      "cell_type": "code",
      "source": [
        "# Data awal: katalog lauk dari 2 pemasok\n",
        "katalog_A = {\"Rendang\", \"Ayam Pop\", \"Gulai Ayam\", \"Telur Balado\"}\n",
        "katalog_B = {\"Ikan Bakar\", \"Rendang\", \"Dendeng Balado\", \"Sayur Nangka\"}\n",
        "produk_diskon = (\"Rendang\", \"Dendeng Balado\", \"Perkedel\")\n",
        "\n",
        "# 1. Gabungkan katalog_A dan katalog_B menjadi set unik\n",
        "katalog_lengkap = katalog_A.union(katalog_B)\n",
        "\n",
        "# 2. Cari produk yang ada di katalog_lengkap sekaligus ada di produk_diskon\n",
        "produk_promo_aktif = katalog_lengkap.intersection(produk_diskon)\n",
        "\n",
        "# Output hasil\n",
        "print(\"Katalog A:\", katalog_A)\n",
        "print(\"Katalog B:\", katalog_B)\n",
        "print(\"Katalog Lengkap:\", katalog_lengkap)\n",
        "print(\"Produk Diskon:\", produk_diskon)\n",
        "print(\"Produk Promo Aktif:\", produk_promo_aktif)\n"
      ],
      "metadata": {
        "colab": {
          "base_uri": "https://localhost:8080/"
        },
        "id": "-1h4EZwMFf1H",
        "outputId": "6e359e3e-767f-498f-f2eb-1ea7d81c8a26"
      },
      "execution_count": 5,
      "outputs": [
        {
          "output_type": "stream",
          "name": "stdout",
          "text": [
            "Katalog A: {'Telur Balado', 'Ayam Pop', 'Rendang', 'Gulai Ayam'}\n",
            "Katalog B: {'Dendeng Balado', 'Sayur Nangka', 'Rendang', 'Ikan Bakar'}\n",
            "Katalog Lengkap: {'Ayam Pop', 'Gulai Ayam', 'Dendeng Balado', 'Ikan Bakar', 'Sayur Nangka', 'Rendang', 'Telur Balado'}\n",
            "Produk Diskon: ('Rendang', 'Dendeng Balado', 'Perkedel')\n",
            "Produk Promo Aktif: {'Dendeng Balado', 'Rendang'}\n"
          ]
        }
      ]
    }
  ]
}