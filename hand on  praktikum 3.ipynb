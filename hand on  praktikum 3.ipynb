{
  "nbformat": 4,
  "nbformat_minor": 0,
  "metadata": {
    "colab": {
      "provenance": [],
      "authorship_tag": "ABX9TyNMxmCyhM9Poqi1H1O4SGfn",
      "include_colab_link": true
    },
    "kernelspec": {
      "name": "python3",
      "display_name": "Python 3"
    },
    "language_info": {
      "name": "python"
    }
  },
  "cells": [
    {
      "cell_type": "markdown",
      "metadata": {
        "id": "view-in-github",
        "colab_type": "text"
      },
      "source": [
        "<a href=\"https://colab.research.google.com/github/ferdanischool-pixel/pemrograman-dasar/blob/main/percobaan_pertemuan_3.ipynb\" target=\"_parent\"><img src=\"https://colab.research.google.com/assets/colab-badge.svg\" alt=\"Open In Colab\"/></a>"
      ]
    },
    {
      "cell_type": "code",
      "execution_count": null,
      "metadata": {
        "id": "_GF1LQ6LZron",
        "colab": {
          "base_uri": "https://localhost:8080/"
        },
        "outputId": "9b27b1f8-78a9-4922-ee88-92e2db68964b"
      },
      "outputs": [
        {
          "name": "stdout",
          "output_type": "stream",
          "text": [
            "berpa porsi makan yang anda beli 1\n",
            "siapa nama pelanggan alpin\n"
          ]
        }
      ],
      "source": [
        "total = input(\"berpa porsi makan yang anda beli\")\n",
        "nama = input(\"siapa nama pelanggan\")"
      ]
    },
    {
      "cell_type": "code",
      "source": [
        "total = int (input(\"berapa porsi makan yang anda beli\"))\n",
        "nama = str (input(\"siapa nama pelanggan\"))"
      ],
      "metadata": {
        "colab": {
          "base_uri": "https://localhost:8080/"
        },
        "id": "q4lKmPoDgzRR",
        "outputId": "a3d9bc58-1d13-4c29-b1ab-0890a5e08e70"
      },
      "execution_count": null,
      "outputs": [
        {
          "name": "stdout",
          "output_type": "stream",
          "text": [
            "berapa porsi makan yang anda beli 2\n",
            "siapa nama pelanggan alpin\n"
          ]
        }
      ]
    },
    {
      "cell_type": "code",
      "source": [
        "food = \"mi ayam bakso\"\n",
        "print(\"alpin sedang memesan\")"
      ],
      "metadata": {
        "colab": {
          "base_uri": "https://localhost:8080/"
        },
        "id": "J-uEwZ9mhgMa",
        "outputId": "e6b9ee96-0587-4728-e29b-57e2dbce8e52"
      },
      "execution_count": null,
      "outputs": [
        {
          "output_type": "stream",
          "name": "stdout",
          "text": [
            "alpin sedang memesan\n"
          ]
        }
      ]
    },
    {
      "cell_type": "code",
      "source": [
        "food = \"mi ayam bakso\"\n",
        "print(\"alpin sedang memesan\",food)\n",
        "print(\"alpin sedang memesan\"+food)\n",
        "print(\"alpin sedang memesan %s\" % (food))"
      ],
      "metadata": {
        "colab": {
          "base_uri": "https://localhost:8080/"
        },
        "id": "x3nvy19Jh_JR",
        "outputId": "79d2656c-7c96-4017-ed91-d14788b3ff81"
      },
      "execution_count": null,
      "outputs": [
        {
          "output_type": "stream",
          "name": "stdout",
          "text": [
            "alpin sedang memesan mi ayam bakso\n",
            "alpin sedang memesanmi ayam bakso\n",
            "alpin sedang memesan mi ayam bakso\n"
          ]
        }
      ]
    },
    {
      "cell_type": "code",
      "source": [
        "a = 20\n",
        "b = 5\n",
        "print(\"penjumlahan\", a+b)\n",
        "print(\"penguramgan\", a-b)\n",
        "print(\"perkalian\", a*b)\n",
        "print(\"pembagian\", a/b)"
      ],
      "metadata": {
        "colab": {
          "base_uri": "https://localhost:8080/"
        },
        "id": "BbzkyLOojxqi",
        "outputId": "0c00aebe-9c49-4c3a-8024-a31d7c5489ec"
      },
      "execution_count": null,
      "outputs": [
        {
          "output_type": "stream",
          "name": "stdout",
          "text": [
            "penjumlahan 25\n",
            "penguramgan 15\n",
            "perkalian 100\n",
            "pembagian 4.0\n"
          ]
        }
      ]
    },
    {
      "cell_type": "code",
      "source": [
        "bilangan = 8\n",
        "hasil = (bilangan>0)and(bilangan%2==0)\n",
        "print(\"genap dan positif?\",hasil)"
      ],
      "metadata": {
        "colab": {
          "base_uri": "https://localhost:8080/"
        },
        "id": "v9x5g_xcp6Mj",
        "outputId": "940127e4-3118-465c-8e51-245f064f17c7"
      },
      "execution_count": null,
      "outputs": [
        {
          "output_type": "stream",
          "name": "stdout",
          "text": [
            "genap dan positif? True\n"
          ]
        }
      ]
    },
    {
      "cell_type": "code",
      "source": [
        "harga_makan=int(input(\"berapa harga mi ayam per porsi?\"))\n",
        "jumlah_makan=int(input(\"berapa porsi yang anda beli?\"))\n",
        "total_makan=harga_makan*jumlah_makan\n",
        "print(f\"harga makan per porsi={harga_makan},totalnya adalah{total_makan}\")"
      ],
      "metadata": {
        "colab": {
          "base_uri": "https://localhost:8080/"
        },
        "id": "90qJaNUhqxG0",
        "outputId": "27fe8ece-379f-470a-be61-b5859a24298d"
      },
      "execution_count": null,
      "outputs": [
        {
          "output_type": "stream",
          "name": "stdout",
          "text": [
            "berapa harga mi ayam per porsi?20000\n",
            "berapa porsi yang anda beli?2\n",
            "harga makan per porsi=20000,totalnya adalah40000\n"
          ]
        }
      ]
    },
    {
      "cell_type": "code",
      "source": [],
      "metadata": {
        "id": "sSEO7zD5sg5T"
      },
      "execution_count": null,
      "outputs": []
    },
    {
      "cell_type": "code",
      "source": [
        "# Input belanja via keyboard\n",
        "belanja = int(input(\"Masukkan total belanja: \"))\n",
        "\n",
        "# Penentuan diskon dengan kondisi bertingkat\n",
        "if belanja > 1000000:\n",
        "    diskon = 0.35 * belanja\n",
        "elif belanja > 500000:\n",
        "    diskon = 0.1 * belanja\n",
        "else:\n",
        "    diskon = 0\n",
        "\n",
        "total_harga = belanja - diskon\n",
        "print(\"Total harga setelah diskon =\", total_harga)\n"
      ],
      "metadata": {
        "colab": {
          "base_uri": "https://localhost:8080/"
        },
        "id": "odhKDWhqltIr",
        "outputId": "e0d1e946-d8c2-449c-f0d3-b95c8ee6e5a3"
      },
      "execution_count": null,
      "outputs": [
        {
          "output_type": "stream",
          "name": "stdout",
          "text": [
            "Masukkan total belanja: 1500000\n",
            "Total harga setelah diskon = 975000.0\n"
          ]
        }
      ]
    },
    {
      "cell_type": "code",
      "source": [
        "belanja = 2000000\n",
        "diskon = (0,35 * belanja)[belanja > 1500000]\n",
        "total_harga = belanja - diskon\n",
        "print(\"total harga setelah diskon =\", total_harga)"
      ],
      "metadata": {
        "colab": {
          "base_uri": "https://localhost:8080/"
        },
        "id": "XRmbMwRymhkZ",
        "outputId": "77a4c2ff-9b87-4653-fc25-281b1b203e91"
      },
      "execution_count": null,
      "outputs": [
        {
          "output_type": "stream",
          "name": "stdout",
          "text": [
            "total harga setelah diskon = -68000000\n"
          ]
        }
      ]
    }
  ]
}
