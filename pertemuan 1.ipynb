{
  "nbformat": 4,
  "nbformat_minor": 0,
  "metadata": {
    "colab": {
      "provenance": [],
      "authorship_tag": "ABX9TyOo6MuvKR4ToiWYSHxANK6f",
      "include_colab_link": true
    },
    "kernelspec": {
      "name": "python3",
      "display_name": "Python 3"
    },
    "language_info": {
      "name": "python"
    }
  },
  "cells": [
    {
      "cell_type": "markdown",
      "metadata": {
        "id": "view-in-github",
        "colab_type": "text"
      },
      "source": [
        "<a href=\"https://colab.research.google.com/github/ferdanischool-pixel/pemrograman-dasar/blob/main/Untitled0.ipynb\" target=\"_parent\"><img src=\"https://colab.research.google.com/assets/colab-badge.svg\" alt=\"Open In Colab\"/></a>"
      ]
    },
    {
      "cell_type": "code",
      "execution_count": null,
      "metadata": {
        "colab": {
          "base_uri": "https://localhost:8080/"
        },
        "id": "bvYZBojY9Osc",
        "outputId": "6be580a7-fd2f-4a1d-b27d-db89673f1e24"
      },
      "outputs": [
        {
          "output_type": "stream",
          "name": "stdout",
          "text": [
            "ferdani\n",
            "21\n",
            "RPE\n",
            "3\n",
            "pemerograman dasar\n",
            "False\n"
          ]
        }
      ],
      "source": [
        "#BIODATA SAYA\n",
        "nama = \"ferdani\"\n",
        "umur = 21\n",
        "jurusan = \"RPE\"\n",
        "semester = 3\n",
        "matakuliah = 'pemerograman dasar'\n",
        "status_lulus = False\n",
        "\n",
        "print (nama)\n",
        "print (umur)\n",
        "print (jurusan)\n",
        "print (semester)\n",
        "print (matakuliah)\n",
        "print (status_lulus)\n"
      ]
    }
  ]
}
