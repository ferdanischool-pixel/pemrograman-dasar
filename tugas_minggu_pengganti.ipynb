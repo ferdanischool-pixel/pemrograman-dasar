{
  "nbformat": 4,
  "nbformat_minor": 0,
  "metadata": {
    "colab": {
      "provenance": [],
      "authorship_tag": "ABX9TyMuS9+ER3PDq5cE0vtG0lTu",
      "include_colab_link": true
    },
    "kernelspec": {
      "name": "python3",
      "display_name": "Python 3"
    },
    "language_info": {
      "name": "python"
    }
  },
  "cells": [
    {
      "cell_type": "markdown",
      "metadata": {
        "id": "view-in-github",
        "colab_type": "text"
      },
      "source": [
        "<a href=\"https://colab.research.google.com/github/ferdanischool-pixel/pemrograman-dasar/blob/main/tugas_minggu_pengganti.ipynb\" target=\"_parent\"><img src=\"https://colab.research.google.com/assets/colab-badge.svg\" alt=\"Open In Colab\"/></a>"
      ]
    },
    {
      "cell_type": "code",
      "source": [
        "# SOAL 1: Fungsi Inisialisasi Sederhana\n",
        "def sapa_praktikan(nama):\n",
        "    \"\"\"Mencetak pesan sambutan dasar.\"\"\"\n",
        "    print(f\"hallo {nama}!!\")\n",
        "    print(\"Sistem siap. Selamat datang kembali di sesi praktikum.\")\n",
        "\n",
        "# Pemanggilan:\n",
        "sapa_praktikan(\"FERDANI\")\n",
        "\n",
        "def biodata():\n",
        "    \"\"\"Menampilkan biodata sederhana praktikan.\"\"\"\n",
        "    print(\"=== BIODATA PRAKTIKAN ===\")\n",
        "    print(\"Nama     : FERDANI\")\n",
        "    print(\"NIM      : 123456789\")\n",
        "    print(\"Jurusan  : REKAYASA PEMBANGKIT ENRGI\")\n",
        "    print(\"===========================\")\n",
        "\n",
        "# Pemanggilan fungsi\n",
        "biodata()\n"
      ],
      "metadata": {
        "colab": {
          "base_uri": "https://localhost:8080/"
        },
        "id": "fGw28vYw87H_",
        "outputId": "90045e58-c04c-4c4d-ebe3-0d252fc2d4dc"
      },
      "execution_count": 6,
      "outputs": [
        {
          "output_type": "stream",
          "name": "stdout",
          "text": [
            "hallo FERDANI!!\n",
            "Sistem siap. Selamat datang kembali di sesi praktikum.\n",
            "=== BIODATA PRAKTIKAN ===\n",
            "Nama     : FERDANI\n",
            "NIM      : 123456789\n",
            "Jurusan  : REKAYASA PEMBANGKIT ENRGI\n",
            "===========================\n"
          ]
        }
      ]
    },
    {
      "cell_type": "code",
      "source": [
        "# SOAL 2: Menghitung Volume Kubus\n",
        "def hitung_volume_kubus(sisi):\n",
        "    \"\"\"Menghitung volume kubus dari panjang sisinya.\"\"\"\n",
        "    return sisi ** 3\n",
        "\n",
        "# Pemanggilan:\n",
        "panjang_sisi = 5\n",
        "print(f\"Volume kubus dengan sisi {panjang_sisi} adalah: {hitung_volume_kubus(panjang_sisi)}\")\n",
        "print(\"=\"*40)\n",
        "\n",
        "def hitung_volume_balok(panjang, lebar, tinggi):\n",
        "    \"\"\"Menghitung volume balok dari panjang, lebar, dan tinggi.\"\"\"\n",
        "    return panjang * lebar * tinggi\n",
        "\n",
        "# Input dari pengguna\n",
        "p = float(input(\"Masukkan panjang balok: \"))\n",
        "l = float(input(\"Masukkan lebar balok: \"))\n",
        "t = float(input(\"Masukkan tinggi balok: \"))\n",
        "\n",
        "# Menampilkan hasil\n",
        "print(f\"Volume balok dengan panjang={p}, lebar={l}, dan tinggi={t} adalah: {hitung_volume_balok(p, l, t)}\")\n"
      ],
      "metadata": {
        "colab": {
          "base_uri": "https://localhost:8080/"
        },
        "id": "N5AbQM_RE1UX",
        "outputId": "33ab1ef5-d405-44ec-dfc2-cb1feef29979"
      },
      "execution_count": 19,
      "outputs": [
        {
          "output_type": "stream",
          "name": "stdout",
          "text": [
            "Volume kubus dengan sisi 5 adalah: 125\n",
            "========================================\n",
            "Masukkan panjang balok: 10\n",
            "Masukkan lebar balok: 5\n",
            "Masukkan tinggi balok: 3\n",
            "Volume balok dengan panjang=10.0, lebar=5.0, dan tinggi=3.0 adalah: 150.0\n"
          ]
        }
      ]
    },
    {
      "cell_type": "code",
      "source": [
        "# SOAL 3: Menghitung Rata-rata dari List Nilai\n",
        "def hitung_rata_rata(data_nilai):\n",
        "    \"\"\"Menghitung rata-rata dari list angka menggunakan perulangan for.\"\"\"\n",
        "    total = 0\n",
        "\n",
        "    # Perulangan untuk menjumlahkan nilai\n",
        "    for nilai in data_nilai:\n",
        "        total += nilai\n",
        "\n",
        "    # Pembagian untuk rata-rata\n",
        "    if len(data_nilai) > 0:\n",
        "        return total / len(data_nilai)\n",
        "    return 0\n",
        "\n",
        "# Pemanggilan:\n",
        "nilai_praktikan = [85, 78, 92, 65, 90]\n",
        "print(f\"Nilai rata-rata kelas adalah: {hitung_rata_rata(nilai_praktikan)}\")\n",
        "print(\"=\"*40)\n",
        "\n",
        "def hitung_rata_rata(data_nilai):\n",
        "    \"\"\"Menghitung rata-rata dari list angka, mengabaikan nilai di luar 0–100.\"\"\"\n",
        "    total = 0\n",
        "    jumlah_valid = 0\n",
        "\n",
        "    for nilai in data_nilai:\n",
        "        if 0 <= nilai <= 100:\n",
        "            total += nilai\n",
        "            jumlah_valid += 1\n",
        "        else:\n",
        "            print(f\"Nilai {nilai} diabaikan (tidak valid).\")\n",
        "\n",
        "    if jumlah_valid > 0:\n",
        "        return total / jumlah_valid\n",
        "    return 0\n",
        "\n",
        "# Pemanggilan:\n",
        "nilai_praktikan = [85, 110, 92, -5, 90]\n",
        "print(f\"Nilai rata-rata kelas adalah: {hitung_rata_rata(nilai_praktikan)}\")\n"
      ],
      "metadata": {
        "colab": {
          "base_uri": "https://localhost:8080/"
        },
        "id": "GCpkslnbGoLo",
        "outputId": "741f627f-5a21-4463-b1dc-76601912607d"
      },
      "execution_count": 18,
      "outputs": [
        {
          "output_type": "stream",
          "name": "stdout",
          "text": [
            "Nilai rata-rata kelas adalah: 82.0\n",
            "========================================\n",
            "Nilai 110 diabaikan (tidak valid).\n",
            "Nilai -5 diabaikan (tidak valid).\n",
            "Nilai rata-rata kelas adalah: 89.0\n"
          ]
        }
      ]
    },
    {
      "cell_type": "code",
      "source": [
        "# SOAL 4: Sistem Penentuan Predikat Nilai\n",
        "def tentukan_predikat(skor):\n",
        "    \"\"\"Menentukan predikat (A, B, C, D, E) berdasarkan skor.\"\"\"\n",
        "    if skor >= 85:\n",
        "        return \"A\"\n",
        "    elif skor >= 70:\n",
        "        return \"B\"\n",
        "    elif skor >= 60:\n",
        "        return \"C\"\n",
        "    elif skor >= 50:\n",
        "        return \"D\"\n",
        "    else:\n",
        "        return \"E\"\n",
        "\n",
        "# Pemanggilan:\n",
        "print(f\"Skor 75 mendapat predikat: {tentukan_predikat(75)}\")\n",
        "print(f\"Skor 48 mendapat predikat: {tentukan_predikat(48)}\")\n",
        "\n",
        "print(\"=\"*40)\n",
        "\n",
        "def tentukan_predikat(skor):\n",
        "    \"\"\"Menentukan predikat (A, B, C, D, E) berdasarkan skor dengan pengecekan tipe data.\"\"\"\n",
        "\n",
        "    # Pengecekan tipe data\n",
        "    if not isinstance(skor, (int, float)):\n",
        "        return \"Error: Skor harus berupa angka (int atau float).\"\n",
        "\n",
        "    # Pengecekan nilai agar tetap dalam rentang 0–100 (opsional tapi disarankan)\n",
        "    if skor < 0 or skor > 100:\n",
        "        return \"Error: Skor harus di antara 0 dan 100.\"\n",
        "\n",
        "    # Penentuan predikat\n",
        "    if skor >= 85:\n",
        "        return \"A\"\n",
        "    elif skor >= 70:\n",
        "        return \"B\"\n",
        "    elif skor >= 60:\n",
        "        return \"C\"\n",
        "    elif skor >= 50:\n",
        "        return \"D\"\n",
        "    else:\n",
        "        return \"E\"\n",
        "\n",
        "\n",
        "# Pemanggilan fungsi:\n",
        "print(f\"Skor 75 mendapat predikat: {tentukan_predikat(75)}\")\n",
        "print(f\"Skor 48 mendapat predikat: {tentukan_predikat(48)}\")\n",
        "print(f\"Skor 50 mendapat predikat: {tentukan_predikat(50)}\")\n",
        "print(f\"Skor 95 mendapat predikat: {tentukan_predikat(95)}\")\n"
      ],
      "metadata": {
        "colab": {
          "base_uri": "https://localhost:8080/"
        },
        "id": "7UEdQrtWIvTd",
        "outputId": "21e23f0d-e7dd-47d5-d0dd-764f82b6811e"
      },
      "execution_count": 26,
      "outputs": [
        {
          "output_type": "stream",
          "name": "stdout",
          "text": [
            "Skor 75 mendapat predikat: B\n",
            "Skor 48 mendapat predikat: E\n",
            "========================================\n",
            "Skor 75 mendapat predikat: B\n",
            "Skor 48 mendapat predikat: E\n",
            "Skor 50 mendapat predikat: D\n",
            "Skor 95 mendapat predikat: A\n"
          ]
        }
      ]
    },
    {
      "cell_type": "code",
      "source": [
        "# SOAL 5: Menghitung Faktorial dengan Loop While\n",
        "def hitung_faktorial(n):\n",
        "    \"\"\"Menghitung faktorial dari bilangan positif n.\"\"\"\n",
        "    hasil = 1\n",
        "\n",
        "    # Perulangan berjalan selama n lebih besar dari 1\n",
        "    while n > 1:\n",
        "        hasil *= n\n",
        "        n -= 1  # Kurangi n\n",
        "    return hasil\n",
        "\n",
        "# Pemanggilan:\n",
        "bilangan_n = 4\n",
        "print(f\"Faktorial dari {bilangan_n} adalah: {hitung_faktorial(bilangan_n)}\")  # Output: 24\n",
        "\n",
        "print(\"=\"*40)\n",
        "\n",
        "def hitung_faktorial_interaktif():\n",
        "    \"\"\"Menghitung faktorial dari bilangan bulat non-negatif secara interaktif.\"\"\"\n",
        "\n",
        "    data = input(\"Masukkan bilangan bulat non-negatif: \")\n",
        "\n",
        "    # Validasi apakah input bisa diubah menjadi integer\n",
        "    if not data.isdigit():\n",
        "        print(\"Error: Harus berupa bilangan bulat non-negatif.\")\n",
        "        return\n",
        "\n",
        "    n = int(data)\n",
        "\n",
        "    # Kasus khusus n = 0\n",
        "    if n == 0:\n",
        "        print(f\"Faktorial dari {n} adalah 1\")\n",
        "        return\n",
        "\n",
        "    # Perhitungan faktorial\n",
        "    hasil = 1\n",
        "    while n > 1:\n",
        "        hasil *= n\n",
        "        n -= 1\n",
        "\n",
        "    print(f\"Faktorial dari {data} adalah: {hasil}\")\n",
        "\n",
        "\n",
        "# Pemanggilan fungsi interaktif\n",
        "hitung_faktorial_interaktif()\n",
        "\n"
      ],
      "metadata": {
        "colab": {
          "base_uri": "https://localhost:8080/"
        },
        "id": "5xc3JffLKyLc",
        "outputId": "84915642-064e-44f3-f5b4-b4ca3d0660fd"
      },
      "execution_count": 32,
      "outputs": [
        {
          "output_type": "stream",
          "name": "stdout",
          "text": [
            "Faktorial dari 4 adalah: 24\n",
            "========================================\n",
            "Masukkan bilangan bulat non-negatif: 5\n",
            "Faktorial dari 5 adalah: 120\n"
          ]
        }
      ]
    },
    {
      "cell_type": "code",
      "source": [
        "# SOAL 6: Analisis Data Suhu Ekstrem (for dan if/elif)\n",
        "def analisis_suhu(data_suhu):\n",
        "    \"\"\"Menghitung jumlah hari Panas dan Dingin dari data_suhu.\"\"\"\n",
        "    panas_count = 0\n",
        "    dingin_count = 0\n",
        "\n",
        "    for suhu in data_suhu:\n",
        "        if suhu >= 35:\n",
        "            panas_count += 1\n",
        "        elif suhu <= 15:\n",
        "            dingin_count += 1\n",
        "\n",
        "    return panas_count, dingin_count\n",
        "\n",
        "# Pemanggilan:\n",
        "suhu_mingguan = [36, 30, 14, 25, 38, 16, 28]\n",
        "jumlah_panas, jumlah_dingin = analisis_suhu(suhu_mingguan)\n",
        "print(f\"Jumlah hari Panas (>=35°C): {jumlah_panas}\")\n",
        "print(f\"Jumlah hari Dingin (<=15°C): {jumlah_dingin}\")\n",
        "\n",
        "print(\"=\"*40)\n",
        "\n",
        "def analisis_suhu(data_suhu, batas_panas=35, batas_dingin=15):\n",
        "    \"\"\"\n",
        "    Menghitung jumlah hari Panas dan Dingin dari data_suhu.\n",
        "\n",
        "    Parameter opsional:\n",
        "    - batas_panas: suhu minimum untuk kategori Panas (default=35)\n",
        "    - batas_dingin: suhu maksimum untuk kategori Dingin (default=15)\n",
        "    \"\"\"\n",
        "    panas_count = 0\n",
        "    dingin_count = 0\n",
        "\n",
        "    for suhu in data_suhu:\n",
        "        if suhu >= batas_panas:\n",
        "            panas_count += 1\n",
        "        elif suhu <= batas_dingin:\n",
        "            dingin_count += 1\n",
        "\n",
        "    return panas_count, dingin_count\n",
        "\n",
        "# Contoh pemanggilan:\n",
        "suhu_mingguan = [36, 30, 14, 25, 38, 16, 28]\n",
        "\n",
        "# Menggunakan batas default\n",
        "jumlah_panas, jumlah_dingin = analisis_suhu(suhu_mingguan)\n",
        "print(f\"Jumlah hari Panas (>=35°C): {jumlah_panas}\")\n",
        "print(f\"Jumlah hari Dingin (<=15°C): {jumlah_dingin}\")\n",
        "\n",
        "# Mengubah batas suhu\n",
        "jumlah_panas2, jumlah_dingin2 = analisis_suhu(suhu_mingguan, batas_panas=33, batas_dingin=18)\n",
        "print(f\"Jumlah hari Panas (>=33°C): {jumlah_panas2}\")\n",
        "print(f\"Jumlah hari Dingin (<=18°C): {jumlah_dingin2}\")\n"
      ],
      "metadata": {
        "colab": {
          "base_uri": "https://localhost:8080/"
        },
        "id": "63glWFc_L2nt",
        "outputId": "0dcb0ad4-fdb6-4561-9ed3-3f6664a20178"
      },
      "execution_count": 36,
      "outputs": [
        {
          "output_type": "stream",
          "name": "stdout",
          "text": [
            "Jumlah hari Panas (>=35°C): 2\n",
            "Jumlah hari Dingin (<=15°C): 1\n",
            "========================================\n",
            "Jumlah hari Panas (>=35°C): 2\n",
            "Jumlah hari Dingin (<=15°C): 1\n",
            "Jumlah hari Panas (>=33°C): 2\n",
            "Jumlah hari Dingin (<=18°C): 2\n"
          ]
        }
      ]
    }
  ]
}