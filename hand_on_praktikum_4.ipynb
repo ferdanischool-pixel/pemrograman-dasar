{
  "nbformat": 4,
  "nbformat_minor": 0,
  "metadata": {
    "colab": {
      "provenance": [],
      "authorship_tag": "ABX9TyN78fLOyBq3gsmsC+kPnMAR",
      "include_colab_link": true
    },
    "kernelspec": {
      "name": "python3",
      "display_name": "Python 3"
    },
    "language_info": {
      "name": "python"
    }
  },
  "cells": [
    {
      "cell_type": "markdown",
      "metadata": {
        "id": "view-in-github",
        "colab_type": "text"
      },
      "source": [
        "<a href=\"https://colab.research.google.com/github/ferdanischool-pixel/pemrograman-dasar/blob/main/hand_on_praktikum_4.ipynb\" target=\"_parent\"><img src=\"https://colab.research.google.com/assets/colab-badge.svg\" alt=\"Open In Colab\"/></a>"
      ]
    },
    {
      "cell_type": "code",
      "execution_count": 3,
      "metadata": {
        "id": "Z3UW3WsTaAB0",
        "colab": {
          "base_uri": "https://localhost:8080/"
        },
        "outputId": "1f39c007-ab40-49aa-ea0d-22ab3e010a97"
      },
      "outputs": [
        {
          "output_type": "stream",
          "name": "stdout",
          "text": [
            "pengunjung adalah orang dewasa\n"
          ]
        }
      ],
      "source": [
        "umur: int = 20\n",
        "if umur > 17:\n",
        "  print(\"pengunjung adalah orang dewasa\")"
      ]
    },
    {
      "cell_type": "code",
      "source": [
        "username = input(\"masukan username: \")\n",
        "password = input(\"masukan password: \")\n",
        "if username == \"ferdani\" and password == \"1234\":\n",
        "  print(\"login berhasil\")\n",
        "else:\n",
        "  print(\"login gagal\")"
      ],
      "metadata": {
        "colab": {
          "base_uri": "https://localhost:8080/"
        },
        "id": "Lap3FZn8a55Y",
        "outputId": "a963a432-7180-4489-a190-818fa9eb210a"
      },
      "execution_count": 10,
      "outputs": [
        {
          "output_type": "stream",
          "name": "stdout",
          "text": [
            "masukan username: ferdani\n",
            "masukan password: 1234\n",
            "login berhasil\n"
          ]
        }
      ]
    },
    {
      "cell_type": "code",
      "source": [
        "\n",
        "total_belanja = input(\"Total belanja: Rp \")\n",
        "bayar = int(total_belanja)\n",
        "if(int(total_belanja) > 100000):\n",
        "    print(\"Selamat Karena Belanja > Rp. 100.000 anda mendapat Voucher Makan \")\n",
        "    print(\"dan diskon 5%\")\n",
        "    diskon = int(total_belanja) * 5 / 100\n",
        "    bayar = int(total_belanja) - diskon\n",
        "print(\"Total yang harus dibayar: Rp %s\" % bayar)\n",
        "print(\"Terima kasih sudah berbelanja di Toko Kami\")\n",
        "print(\"Kami Tunggu kunjungan anda selanjutnya.\")\n"
      ],
      "metadata": {
        "colab": {
          "base_uri": "https://localhost:8080/"
        },
        "id": "YFDnBMhgdnmo",
        "outputId": "626b79fe-ce41-4893-dfca-f33c6c256bf7"
      },
      "execution_count": 33,
      "outputs": [
        {
          "output_type": "stream",
          "name": "stdout",
          "text": [
            "Total belanja: Rp 150000\n",
            "Selamat Karena Belanja > Rp. 100.000 anda mendapat Voucher Makan \n",
            "dan diskon 5%\n",
            "Total yang harus dibayar: Rp 142500.0\n",
            "Terima kasih sudah berbelanja di Toko Kami\n",
            "Kami Tunggu kunjungan anda selanjutnya.\n"
          ]
        }
      ]
    },
    {
      "cell_type": "code",
      "source": [
        "ada_notifikasi_baru: bool = True\n",
        "\n",
        "if ada_notifikasi_baru:\n",
        "    print(\"ada chat boss!\")\n"
      ],
      "metadata": {
        "colab": {
          "base_uri": "https://localhost:8080/"
        },
        "id": "6q7uBLYkerPA",
        "outputId": "869ff48b-70c6-4c05-b221-c6e9a1049401"
      },
      "execution_count": 31,
      "outputs": [
        {
          "output_type": "stream",
          "name": "stdout",
          "text": [
            "ada chat boss!\n"
          ]
        }
      ]
    },
    {
      "cell_type": "code",
      "source": [
        "umur = input(\"Berapa umur kamu: \")\n",
        "if int(umur) >= 18:\n",
        "    print(\"Kamu boleh membuat SIM\")\n",
        "else:\n",
        "    print(\"Kamu belum boleh membuat SIM\")\n"
      ],
      "metadata": {
        "colab": {
          "base_uri": "https://localhost:8080/"
        },
        "id": "ROPsknGne_E3",
        "outputId": "b3909115-2654-49ca-fb21-17c1c86ba73f"
      },
      "execution_count": 17,
      "outputs": [
        {
          "output_type": "stream",
          "name": "stdout",
          "text": [
            "Berapa umur kamu: 20\n",
            "Kamu boleh membuat SIM\n"
          ]
        }
      ]
    },
    {
      "cell_type": "code",
      "source": [
        "total_belanja = 50000\n",
        "\n",
        "\n",
        "if total_belanja > 20000:\n",
        "    diskon = total_belanja * 0.10\n",
        "    total_bayar = total_belanja - diskon\n",
        "    print(f\"Anda mendapat diskon! Total bayar: Rp {total_bayar}\")\n",
        "else:\n",
        "    print(f\"Total bayar: Rp {total_belanja}\")\n"
      ],
      "metadata": {
        "colab": {
          "base_uri": "https://localhost:8080/"
        },
        "id": "4JiyO3pRf2C4",
        "outputId": "97e98ac4-4295-4c4f-f3f4-013cbf8eaf57"
      },
      "execution_count": 21,
      "outputs": [
        {
          "output_type": "stream",
          "name": "stdout",
          "text": [
            "Anda mendapat diskon! Total bayar: Rp 45000.0\n"
          ]
        }
      ]
    },
    {
      "cell_type": "code",
      "source": [
        "angka = int(input(\"masukan bilangan: \"))\n",
        "if angka %2 == 0:\n",
        "  print(\"bilangan genap\")\n",
        "else:\n",
        "    print(\"bilangan ganjil\")"
      ],
      "metadata": {
        "colab": {
          "base_uri": "https://localhost:8080/"
        },
        "id": "tJ8SVIHygYyJ",
        "outputId": "ca696e30-d3e7-498e-93d2-7c937659d542"
      },
      "execution_count": 24,
      "outputs": [
        {
          "output_type": "stream",
          "name": "stdout",
          "text": [
            "masukan bilangan: 57\n",
            "bilangan ganjil\n"
          ]
        }
      ]
    },
    {
      "cell_type": "code",
      "source": [
        "nilai = 80\n",
        "if nilai >= 85:\n",
        "  print(\"luar biasa nilai A\")\n",
        "elif nilai >= 70:\n",
        "  print(\"bagus nilai B\")\n",
        "elif nilai >= 60:\n",
        "  print(\"cukup nilai C\")\n",
        "else:\n",
        "  print(\"nilai kureang, perlu belajar lebih giat.\")"
      ],
      "metadata": {
        "colab": {
          "base_uri": "https://localhost:8080/"
        },
        "id": "xEjQz7WukYoS",
        "outputId": "eb61c168-52c7-4d55-a47f-5475f88104e3"
      },
      "execution_count": 28,
      "outputs": [
        {
          "output_type": "stream",
          "name": "stdout",
          "text": [
            "bagus nilai B\n"
          ]
        }
      ]
    },
    {
      "cell_type": "code",
      "source": [
        "hari: str = \"sabtu\"\n",
        "if hari == \"sabtu\" or hari == \"minggu\":\n",
        "  diskon: float = 0.20\n",
        "  print(f\"selamat! anda mendapat diskon akhir pekan sebesar {diskon*100}%,\")\n",
        "elif hari == \"jumat\":\n",
        "  diskon: flost = 0.15\n",
        "  print(f\"diskon spesial jumat! anda menadapat potongan {diskon*100}%,\")\n",
        "else:\n",
        "  diskon :float = 0.05\n",
        "  print(f\"anda menadapat diskon hari biasa sebesar {diskon*100}&,\")"
      ],
      "metadata": {
        "colab": {
          "base_uri": "https://localhost:8080/"
        },
        "id": "4JWVhXdYmE0a",
        "outputId": "316c8e9a-c5a2-4935-8f6d-013e71066068"
      },
      "execution_count": 30,
      "outputs": [
        {
          "output_type": "stream",
          "name": "stdout",
          "text": [
            "selamat! anda mendapat diskon akhir pekan sebesar 20.0%,\n"
          ]
        }
      ]
    },
    {
      "cell_type": "code",
      "source": [
        "rupiah = int(input(\"Masukkan jumlah uang (Rp): \"))\n",
        "print(\"1. Dollar (USD)\")\n",
        "print(\"2. Euro (EUR)\")\n",
        "print(\"3. Yen (JPY)\")\n",
        "pilih = int(input(\"Pilih konversi (1/2/3): \"))\n",
        "\n",
        "if pilih == 1:\n",
        "    print(\"Dalam Dollar:\", rupiah/ 16605)\n",
        "elif pilih == 2:\n",
        "    print(\"Dalam Euro:\", rupiah / 16000)\n",
        "elif pilih == 3:\n",
        "    print(\"Dalam Yen:\", rupiah / 120)\n",
        "else:\n",
        "    print(\"Pilihan tidak valid\")\n"
      ],
      "metadata": {
        "colab": {
          "base_uri": "https://localhost:8080/"
        },
        "id": "JEpsBHPkpZ5q",
        "outputId": "84706c24-ad9a-4410-fd74-f61def1015f9"
      },
      "execution_count": 39,
      "outputs": [
        {
          "output_type": "stream",
          "name": "stdout",
          "text": [
            "Masukkan jumlah uang (Rp): 33210000\n",
            "1. Dollar (USD)\n",
            "2. Euro (EUR)\n",
            "3. Yen (JPY)\n",
            "Pilih konversi (1/2/3): 1\n",
            "Dalam Dollar: 2000.0\n"
          ]
        }
      ]
    }
  ]
}