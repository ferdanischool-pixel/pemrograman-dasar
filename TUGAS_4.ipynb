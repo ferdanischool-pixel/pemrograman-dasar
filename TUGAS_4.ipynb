{
  "cells": [
    {
      "cell_type": "markdown",
      "metadata": {
        "id": "view-in-github",
        "colab_type": "text"
      },
      "source": [
        "<a href=\"https://colab.research.google.com/github/ferdanischool-pixel/pemrograman-dasar/blob/main/TUGAS_4.ipynb\" target=\"_parent\"><img src=\"https://colab.research.google.com/assets/colab-badge.svg\" alt=\"Open In Colab\"/></a>"
      ]
    },
    {
      "cell_type": "code",
      "source": [
        "print(\"=\"*30)\n",
        "print(\"SELAMAT DATANG DI KAFE GEMINI\")\n",
        "print(\"=\"*30)\n",
        "print(\"Menu Makanan & Minuman:\")\n",
        "print(\"1. Kopi Hitam   - Rp 12.000\")\n",
        "print(\"2. Teh Manis    - Rp 8.000\")\n",
        "print(\"3. Roti Bakar   - Rp 15.000\")\n",
        "print(\"4. Mie Instan   - Rp 10.000\")\n",
        "print(\"=\"*30)\n",
        "\n",
        "pilihan_str = input(\"Silakan masukkan nomor pilihan Anda (1-4): \")\n",
        "pilihan = int(pilihan_str)\n",
        "nama_pesanan = \"\"\n",
        "harga = 0\n",
        "\n",
        "if pilihan == 1:\n",
        "    nama_pesanan = \"Kopi Hitam\"\n",
        "    harga = 12000\n",
        "    print(f\"Anda memesan: {nama_pesanan} dengan harga Rp {harga}\")\n",
        "elif pilihan == 2:\n",
        "    nama_pesanan = \"Teh Manis\"\n",
        "    harga = 8000\n",
        "    print(f\"Anda memesan: {nama_pesanan} dengan harga Rp {harga}\")\n",
        "elif pilihan == 3:\n",
        "    nama_pesanan = \"Roti Bakar\"\n",
        "    harga = 15000\n",
        "    print(f\"Anda memesan: {nama_pesanan} dengan harga Rp {harga}\")\n",
        "elif pilihan == 4:\n",
        "    nama_pesanan = \"Mie Instan\"\n",
        "    harga = 10000\n",
        "    print(f\"Anda memesan: {nama_pesanan} dengan harga Rp {harga}\")\n",
        "else:\n",
        "    print(\"Maaf, pilihan menu tidak valid. Silakan jalankan ulang program.\")\n",
        "    harga = 0\n",
        "\n",
        "if harga > 0:\n",
        "    print(\"=\"*30)\n",
        "    # Menentukan diskon berdasarkan harga\n",
        "    if harga >= 15000:\n",
        "        diskon = 0.7\n",
        "        kategori_diskon = \"70%\"\n",
        "    elif harga >= 10000:\n",
        "        diskon = 0.5\n",
        "        kategori_diskon = \"50%\"\n",
        "    else:\n",
        "        diskon = 0.3\n",
        "        kategori_diskon = \"30%\"\n",
        "\n",
        "    harga_setelah_diskon = int(harga * (1 - diskon))\n",
        "    print(f\"Total Harga sebelum diskon: Rp {harga}\")\n",
        "    print(f\"Diskon yang diberikan: {kategori_diskon}\")\n",
        "    print(f\"Total harga setelah diskon: Rp {harga_setelah_diskon}\")\n",
        "\n",
        "    uang_dibayar_str = input(f\"Total yang harus dibayar: Rp {harga_setelah_diskon}. Masukkan jumlah uang Anda: Rp \")\n",
        "    uang_dibayar = int(uang_dibayar_str)\n",
        "\n",
        "    if uang_dibayar >= harga_setelah_diskon:\n",
        "        kembalian = uang_dibayar - harga_setelah_diskon\n",
        "        print(\"\\n=== Struk Pembayaran ===\")\n",
        "        print(f\"Pesanan Anda : {nama_pesanan}\")\n",
        "        print(f\"Total Harga  : Rp {harga}\")\n",
        "        print(f\"Diskon       : {kategori_diskon}\")\n",
        "        print(f\"Uang Bayar   : Rp {uang_dibayar}\")\n",
        "        print(f\"Kembalian    : Rp {kembalian}\")\n",
        "        print(\"=\"*30)\n",
        "        print(\"Terima kasih telah berbelanja!\")\n",
        "    else:\n",
        "        kekurangan = harga_setelah_diskon - uang_dibayar\n",
        "        print(f\"Maaf, uang Anda kurang sebesar Rp {kekurangan}.\")\n",
        "\n",
        "print(\"=\"*30)\n"
      ],
      "metadata": {
        "colab": {
          "base_uri": "https://localhost:8080/"
        },
        "id": "c7ZOlU_dIHj4",
        "outputId": "7a185339-6663-4fa0-f719-4425b158a9d1"
      },
      "execution_count": 12,
      "outputs": [
        {
          "output_type": "stream",
          "name": "stdout",
          "text": [
            "==============================\n",
            "SELAMAT DATANG DI KAFE GEMINI\n",
            "==============================\n",
            "Menu Makanan & Minuman:\n",
            "1. Kopi Hitam   - Rp 12.000\n",
            "2. Teh Manis    - Rp 8.000\n",
            "3. Roti Bakar   - Rp 15.000\n",
            "4. Mie Instan   - Rp 10.000\n",
            "==============================\n",
            "Silakan masukkan nomor pilihan Anda (1-4): 2\n",
            "Anda memesan: Teh Manis dengan harga Rp 8000\n",
            "==============================\n",
            "Total Harga sebelum diskon: Rp 8000\n",
            "Diskon yang diberikan: 30%\n",
            "Total harga setelah diskon: Rp 5600\n",
            "Total yang harus dibayar: Rp 5600. Masukkan jumlah uang Anda: Rp 18000\n",
            "\n",
            "=== Struk Pembayaran ===\n",
            "Pesanan Anda : Teh Manis\n",
            "Total Harga  : Rp 8000\n",
            "Diskon       : 30%\n",
            "Uang Bayar   : Rp 18000\n",
            "Kembalian    : Rp 12400\n",
            "==============================\n",
            "Terima kasih telah berbelanja!\n",
            "==============================\n"
          ]
        }
      ]
    }
  ],
  "metadata": {
    "colab": {
      "provenance": [],
      "authorship_tag": "ABX9TyM7uYvFkhin9TeYR4Lpfo8G",
      "include_colab_link": true
    },
    "kernelspec": {
      "display_name": "Python 3",
      "name": "python3"
    },
    "language_info": {
      "name": "python"
    }
  },
  "nbformat": 4,
  "nbformat_minor": 0
}