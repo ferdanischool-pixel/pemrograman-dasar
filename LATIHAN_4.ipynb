{
  "nbformat": 4,
  "nbformat_minor": 0,
  "metadata": {
    "colab": {
      "provenance": [],
      "authorship_tag": "ABX9TyM+yhI/c2dnOAa5KJbATo4S",
      "include_colab_link": true
    },
    "kernelspec": {
      "name": "python3",
      "display_name": "Python 3"
    },
    "language_info": {
      "name": "python"
    }
  },
  "cells": [
    {
      "cell_type": "markdown",
      "metadata": {
        "id": "view-in-github",
        "colab_type": "text"
      },
      "source": [
        "<a href=\"https://colab.research.google.com/github/ferdanischool-pixel/pemrograman-dasar/blob/main/LATIHAN_4.ipynb\" target=\"_parent\"><img src=\"https://colab.research.google.com/assets/colab-badge.svg\" alt=\"Open In Colab\"/></a>"
      ]
    },
    {
      "cell_type": "code",
      "execution_count": null,
      "metadata": {
        "colab": {
          "base_uri": "https://localhost:8080/"
        },
        "id": "L1FaBpEuPJYl",
        "outputId": "345825c5-b68b-46a2-a070-e8da9e93b907"
      },
      "outputs": [
        {
          "output_type": "stream",
          "name": "stdout",
          "text": [
            "Masukkan angka: 1235\n",
            "Kelipatan 5\n"
          ]
        }
      ],
      "source": [
        "angka = int(input(\"Masukkan angka: \"))\n",
        "if angka % 5 == 0:\n",
        "    print(\"Kelipatan 5\")\n"
      ]
    },
    {
      "cell_type": "code",
      "source": [
        "# Program menentukan tahun kabisat\n",
        "\n",
        "tahun = int(input(\"Masukkan tahun: \"))\n",
        "\n",
        "if tahun % 400 == 0:\n",
        "    print(tahun, \"adalah tahun kabisat\")\n",
        "elif tahun % 4 == 0 and tahun % 100 != 0:\n",
        "    print(tahun, \"adalah tahun kabisat\")\n",
        "else:\n",
        "    print(tahun, \"bukan tahun kabisat\")\n"
      ],
      "metadata": {
        "colab": {
          "base_uri": "https://localhost:8080/"
        },
        "id": "sRduUvGfrf9U",
        "outputId": "5b0b240a-e7cd-4848-badb-ed53fc4ea230"
      },
      "execution_count": 7,
      "outputs": [
        {
          "output_type": "stream",
          "name": "stdout",
          "text": [
            "Masukkan tahun: 80\n",
            "80 adalah tahun kabisat\n"
          ]
        }
      ]
    },
    {
      "cell_type": "code",
      "source": [
        "# Program menentukan bilangan genap/ganjil dan kelipatan 5\n",
        "\n",
        "angka = int(input(\"Masukkan sebuah bilangan: \"))\n",
        "\n",
        "if angka % 2 == 0:\n",
        "    print(angka, \"adalah bilangan genap\")\n",
        "else:\n",
        "    print(angka, \"adalah bilangan ganjil\")\n",
        "\n",
        "if angka % 5 == 0:\n",
        "    print(angka, \"juga merupakan kelipatan 5\")\n"
      ],
      "metadata": {
        "colab": {
          "base_uri": "https://localhost:8080/"
        },
        "id": "6nwaEb9vtpSO",
        "outputId": "32019eae-c8af-48b2-8f74-a1554adca3cc"
      },
      "execution_count": 10,
      "outputs": [
        {
          "output_type": "stream",
          "name": "stdout",
          "text": [
            "Masukkan sebuah bilangan: 223\n",
            "223 adalah bilangan ganjil\n"
          ]
        }
      ]
    },
    {
      "cell_type": "code",
      "source": [
        "# Program menampilkan nama bulan berdasarkan input angka\n",
        "\n",
        "bulan = int(input(\"Masukkan angka bulan (1-12): \"))\n",
        "\n",
        "if bulan == 1:\n",
        "    print(\"Januari\")\n",
        "elif bulan == 2:\n",
        "    print(\"Februari\")\n",
        "elif bulan == 3:\n",
        "    print(\"Maret\")\n",
        "elif bulan == 4:\n",
        "    print(\"April\")\n",
        "elif bulan == 5:\n",
        "    print(\"Mei\")\n",
        "elif bulan == 6:\n",
        "    print(\"Juni\")\n",
        "elif bulan == 7:\n",
        "    print(\"Juli\")\n",
        "elif bulan == 8:\n",
        "    print(\"Agustus\")\n",
        "elif bulan == 9:\n",
        "    print(\"September\")\n",
        "elif bulan == 10:\n",
        "    print(\"Oktober\")\n",
        "elif bulan == 11:\n",
        "    print(\"November\")\n",
        "elif bulan == 12:\n",
        "    print(\"Desember\")\n",
        "else:\n",
        "    print(\"Input salah\")\n"
      ],
      "metadata": {
        "colab": {
          "base_uri": "https://localhost:8080/"
        },
        "id": "ii-b4SMTuYzQ",
        "outputId": "7a2eddaa-3a81-4c35-c39a-951444b971e6"
      },
      "execution_count": 27,
      "outputs": [
        {
          "output_type": "stream",
          "name": "stdout",
          "text": [
            "Masukkan angka bulan (1-12): 1\n",
            "Januari\n"
          ]
        }
      ]
    },
    {
      "cell_type": "code",
      "source": [
        "# Program menampilkan salam berdasarkan jam (0-23)\n",
        "\n",
        "jam = int(input(\"Masukkan jam (0-23): \"))\n",
        "\n",
        "if 0 <= jam <= 11:\n",
        "    print(\"Selamat Pagi\")\n",
        "elif 12 <= jam <= 15:\n",
        "    print(\"Selamat Siang\")\n",
        "elif 16 <= jam <= 18:\n",
        "    print(\"Selamat Sore\")\n",
        "elif 19 <= jam <= 23:\n",
        "    print(\"Selamat Malam\")\n",
        "else:\n",
        "    print(\"Input jam tidak valid\")\n"
      ],
      "metadata": {
        "colab": {
          "base_uri": "https://localhost:8080/"
        },
        "id": "aLUlP2WL0IeG",
        "outputId": "01b30f46-c8b0-4e2d-eb6a-9f64f644f02b"
      },
      "execution_count": 31,
      "outputs": [
        {
          "output_type": "stream",
          "name": "stdout",
          "text": [
            "Masukkan jam (0-23): 20\n",
            "Selamat Malam\n"
          ]
        }
      ]
    }
  ]
}